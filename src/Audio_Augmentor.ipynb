{
 "cells": [
  {
   "cell_type": "code",
   "execution_count": 1,
   "metadata": {},
   "outputs": [],
   "source": [
    "import os\n",
    "import uuid\n",
    "import librosa\n",
    "import soundfile as sf\n",
    "from audiomentations import Compose, AddGaussianNoise, PitchShift, TimeStretch, Shift"
   ]
  },
  {
   "cell_type": "markdown",
   "metadata": {},
   "source": [
    "## Setup"
   ]
  },
  {
   "cell_type": "code",
   "execution_count": 2,
   "metadata": {},
   "outputs": [],
   "source": [
    "word = \"test\"\n",
    "input_path = \"../Data/samples/test.wav\"\n",
    "path = \"../Data/Dataset/\""
   ]
  },
  {
   "cell_type": "markdown",
   "metadata": {},
   "source": [
    "## Augment Audio"
   ]
  },
  {
   "cell_type": "code",
   "execution_count": 3,
   "metadata": {},
   "outputs": [],
   "source": [
    "def augment_audio(input_file, num_augmented_files):\n",
    "    audio, sr = librosa.load(input_file, sr=16000)\n",
    "    output_path = f\"{path}{word}\"\n",
    "\n",
    "    augment = Compose([\n",
    "        AddGaussianNoise(min_amplitude=0.001, max_amplitude=0.015, p=0.5),\n",
    "        PitchShift(min_semitones=-4, max_semitones=4, p=0.5),\n",
    "        TimeStretch(min_rate=0.8, max_rate=1.25, p=0.5),\n",
    "        Shift(p=0.5),\n",
    "    ])\n",
    "\n",
    "    if not os.path.exists(output_path):\n",
    "        os.makedirs(output_path)\n",
    "\n",
    "    # Saving the original file to the output path\n",
    "    original_file_path = f\"{output_path}/{word}_original.wav\"\n",
    "    sf.write(original_file_path, audio, sr)\n",
    "\n",
    "    # Augmenting the audio and saving it to the output path\n",
    "    for i in range(num_augmented_files):\n",
    "        augmented_audio = augment(samples=audio, sample_rate=sr)\n",
    "        new_file_path = f\"{output_path}/{word}_{str(uuid.uuid4())}.wav\"\n",
    "        sf.write(new_file_path, augmented_audio, sr)\n",
    "\n",
    "augment_audio(input_file=input_path, num_augmented_files=10)"
   ]
  }
 ],
 "metadata": {
  "kernelspec": {
   "display_name": "OneDrive-zbtLzVpK",
   "language": "python",
   "name": "python3"
  },
  "language_info": {
   "codemirror_mode": {
    "name": "ipython",
    "version": 3
   },
   "file_extension": ".py",
   "mimetype": "text/x-python",
   "name": "python",
   "nbconvert_exporter": "python",
   "pygments_lexer": "ipython3",
   "version": "3.9.10"
  }
 },
 "nbformat": 4,
 "nbformat_minor": 2
}
